{
 "cells": [
  {
   "cell_type": "code",
   "execution_count": 1,
   "metadata": {},
   "outputs": [],
   "source": [
    "import tensorflow as tf\n",
    "import keras\n",
    "import cv2"
   ]
  },
  {
   "cell_type": "code",
   "execution_count": 2,
   "metadata": {},
   "outputs": [
    {
     "data": {
      "text/plain": [
       "['tomatoe_onions_real_time_classification.ipynb',\n",
       " 'README.md',\n",
       " 'Object_detection_tomatoe_onion_claassification.py',\n",
       " 'tomatoe_onions',\n",
       " 'pure_model.h5',\n",
       " '.ipynb_checkpoints']"
      ]
     },
     "execution_count": 2,
     "metadata": {},
     "output_type": "execute_result"
    }
   ],
   "source": [
    "import os, sys\n",
    "os.listdir()"
   ]
  },
  {
   "cell_type": "markdown",
   "metadata": {},
   "source": [
    "# Image processing"
   ]
  },
  {
   "cell_type": "code",
   "execution_count": 3,
   "metadata": {},
   "outputs": [],
   "source": [
    "base_dir = os.getcwd()"
   ]
  },
  {
   "cell_type": "code",
   "execution_count": 4,
   "metadata": {},
   "outputs": [],
   "source": [
    "from os import listdir\n",
    "from os.path import isfile, join\n",
    "mypath = 'tomatoe_onions/train/onions/'\n",
    "onlyfiles = [f for f in listdir(mypath) if isfile(join(mypath, f))]"
   ]
  },
  {
   "cell_type": "code",
   "execution_count": 5,
   "metadata": {},
   "outputs": [
    {
     "data": {
      "text/plain": [
       "['IMG_20200716_030657_918.jpg',\n",
       " 'IMG_20200716_030558_087.jpg',\n",
       " 'IMG_20200716_030634_462.jpg']"
      ]
     },
     "execution_count": 5,
     "metadata": {},
     "output_type": "execute_result"
    }
   ],
   "source": [
    "onlyfiles[:3]"
   ]
  },
  {
   "cell_type": "code",
   "execution_count": 6,
   "metadata": {},
   "outputs": [],
   "source": [
    "train_dir = 'tomatoe_onions/train'\n",
    "test_dir = 'tomatoe_onions/test'\n",
    "default_dir = 'tomatoe_onions'\n",
    "train_onion, train_tomatoe, test_onion, test_tomatoe = [], [],[],[]\n",
    "def get_data():\n",
    "    # get data's on training cat\n",
    "    current_dir = train_dir+'/tomatoes/'\n",
    "    train_tomatoe = [f for f in listdir(current_dir) if isfile(join(current_dir, f))]\n",
    "    #print(train_tomatoe)\n",
    "    \n",
    "    # get data's on training dog\n",
    "    current_dir = train_dir +'/onions/'\n",
    "    train_onion = [f for f in listdir(current_dir) if isfile(join(current_dir, f))]\n",
    "    \n",
    "    # get data's on test cat\n",
    "    current_dir = test_dir+'/tomatoes/'\n",
    "    test_tomatoe = [f for f in listdir(current_dir) if isfile(join(current_dir, f))]\n",
    "    \n",
    "    # get data's on test dog\n",
    "    current_dir = test_dir +'/onions/'\n",
    "    test_onion = [f for f in listdir(current_dir) if isfile(join(current_dir, f))]\n",
    "    return train_tomatoe, train_onion, test_tomatoe, test_onion\n",
    "\n",
    "train_tomatoe, train_onion, test_tomatoe, test_onion = get_data()\n",
    "\n"
   ]
  },
  {
   "cell_type": "code",
   "execution_count": 7,
   "metadata": {},
   "outputs": [
    {
     "data": {
      "text/plain": [
       "(37, 47, 10, 10)"
      ]
     },
     "execution_count": 7,
     "metadata": {},
     "output_type": "execute_result"
    }
   ],
   "source": [
    "len(train_tomatoe),len(train_onion),len(test_tomatoe),len(test_onion)"
   ]
  },
  {
   "cell_type": "code",
   "execution_count": 8,
   "metadata": {},
   "outputs": [
    {
     "data": {
      "text/plain": [
       "'/home/odemakinde/Desktop/Computer-Vision-master/Computer-Vision/tomatoe_onions real time image classification'"
      ]
     },
     "execution_count": 8,
     "metadata": {},
     "output_type": "execute_result"
    }
   ],
   "source": [
    "\n",
    "os.getcwd()"
   ]
  },
  {
   "cell_type": "code",
   "execution_count": 9,
   "metadata": {},
   "outputs": [
    {
     "data": {
      "text/plain": [
       "['tomatoe_onions_real_time_classification.ipynb',\n",
       " 'README.md',\n",
       " 'Object_detection_tomatoe_onion_claassification.py',\n",
       " 'tomatoe_onions',\n",
       " 'pure_model.h5',\n",
       " '.ipynb_checkpoints']"
      ]
     },
     "execution_count": 9,
     "metadata": {},
     "output_type": "execute_result"
    }
   ],
   "source": [
    "os.listdir()"
   ]
  },
  {
   "cell_type": "code",
   "execution_count": 17,
   "metadata": {},
   "outputs": [],
   "source": [
    "import numpy as np\n",
    "np.random.seed(100)\n",
    "\n",
    "import keras\n",
    "from keras.preprocessing import image\n",
    "\n",
    "train_images, train_target = [], []\n",
    "for i in train_tomatoe:\n",
    "    try:\n",
    "        directory = train_dir + '/tomatoes/' + str(i)\n",
    "        img = image.load_img(directory, target_size = (224,224), grayscale = False)\n",
    "        img=image.img_to_array(img)\n",
    "        img = img/255\n",
    "        train_images.append(img)\n",
    "        train_target.append(0)\n",
    "    except OSError as err:\n",
    "        continue\n",
    "\n",
    "for i in train_onion:\n",
    "    try:\n",
    "        directory = train_dir + '/onions/' + str(i)\n",
    "        img = image.load_img(directory, target_size = (224,224), grayscale = False)\n",
    "        img=image.img_to_array(img)\n",
    "        img = img/255\n",
    "        train_images.append(img)\n",
    "        train_target.append(1)\n",
    "    \n",
    "    except OSError as err:\n",
    "\n",
    "        continue\n",
    "for i in test_tomatoe:\n",
    "    try:\n",
    "        directory = test_dir + '/tomatoes/' + str(i)\n",
    "        img = image.load_img(directory, target_size = (224,224), grayscale = False)\n",
    "        img=image.img_to_array(img)\n",
    "        img = img/255\n",
    "        train_images.append(img)\n",
    "        train_target.append(0)\n",
    "    except OSError as err:\n",
    "        continue\n",
    "\n",
    "for i in test_onion:\n",
    "    try:\n",
    "        directory = test_dir + '/onions/' + str(i)\n",
    "        img = image.load_img(directory, target_size = (224,224), grayscale = False)\n",
    "        img=image.img_to_array(img)\n",
    "        img = img/255\n",
    "        train_images.append(img)\n",
    "        train_target.append(1)\n",
    "    \n",
    "    except OSError as err:\n",
    "        pass\n",
    "\n"
   ]
  },
  {
   "cell_type": "code",
   "execution_count": 18,
   "metadata": {},
   "outputs": [],
   "source": [
    "#image.load_img??"
   ]
  },
  {
   "cell_type": "code",
   "execution_count": 19,
   "metadata": {},
   "outputs": [
    {
     "data": {
      "text/plain": [
       "((104, 224, 224, 3), (104,))"
      ]
     },
     "execution_count": 19,
     "metadata": {},
     "output_type": "execute_result"
    }
   ],
   "source": [
    "train_images = np.array(train_images)\n",
    "train_target = np.array(train_target)\n",
    "train_images.shape, train_target.shape"
   ]
  },
  {
   "cell_type": "code",
   "execution_count": 20,
   "metadata": {},
   "outputs": [
    {
     "data": {
      "text/plain": [
       "((72, 224, 224, 3), (32, 224, 224, 3), (72,), (32,))"
      ]
     },
     "execution_count": 20,
     "metadata": {},
     "output_type": "execute_result"
    }
   ],
   "source": [
    "from sklearn.model_selection import train_test_split\n",
    "x_train, x_test, y_train, y_test = train_test_split(train_images, train_target, train_size = 0.7, random_state = 42, stratify = train_target)\n",
    "x_train.shape, x_test.shape, y_train.shape, y_test.shape"
   ]
  },
  {
   "cell_type": "code",
   "execution_count": 21,
   "metadata": {},
   "outputs": [
    {
     "data": {
      "text/plain": [
       "array([1, 1, 0, 1, 0, 0, 1, 0, 0, 1, 1, 0, 1, 1, 1, 0, 1, 0, 0, 0, 0, 1,\n",
       "       0, 1, 0, 1, 0, 1, 1, 1, 1, 1, 0, 0, 1, 0, 0, 1, 1, 0, 0, 1, 1, 1,\n",
       "       0, 1, 1, 0, 0, 1, 1, 1, 0, 1, 0, 0, 1, 1, 1, 1, 0, 0, 1, 1, 1, 1,\n",
       "       0, 0, 0, 1, 0, 0])"
      ]
     },
     "execution_count": 21,
     "metadata": {},
     "output_type": "execute_result"
    }
   ],
   "source": [
    "y_train"
   ]
  },
  {
   "cell_type": "code",
   "execution_count": 22,
   "metadata": {},
   "outputs": [],
   "source": [
    "from keras.utils import to_categorical\n",
    "y_train = to_categorical(y_train)\n",
    "y_test = to_categorical(y_test)\n"
   ]
  },
  {
   "cell_type": "markdown",
   "metadata": {},
   "source": [
    "# Training the network\n"
   ]
  },
  {
   "cell_type": "code",
   "execution_count": 27,
   "metadata": {},
   "outputs": [
    {
     "name": "stdout",
     "output_type": "stream",
     "text": [
      "Model: \"sequential_1\"\n",
      "_________________________________________________________________\n",
      "Layer (type)                 Output Shape              Param #   \n",
      "=================================================================\n",
      "conv2d_2 (Conv2D)            (None, 222, 222, 32)      896       \n",
      "_________________________________________________________________\n",
      "max_pooling2d_2 (MaxPooling2 (None, 111, 111, 32)      0         \n",
      "_________________________________________________________________\n",
      "conv2d_3 (Conv2D)            (None, 110, 110, 8)       1032      \n",
      "_________________________________________________________________\n",
      "max_pooling2d_3 (MaxPooling2 (None, 55, 55, 8)         0         \n",
      "_________________________________________________________________\n",
      "flatten_1 (Flatten)          (None, 24200)             0         \n",
      "_________________________________________________________________\n",
      "dense_3 (Dense)              (None, 100)               2420100   \n",
      "_________________________________________________________________\n",
      "dense_4 (Dense)              (None, 50)                5050      \n",
      "_________________________________________________________________\n",
      "dense_5 (Dense)              (None, 2)                 102       \n",
      "=================================================================\n",
      "Total params: 2,427,180\n",
      "Trainable params: 2,427,180\n",
      "Non-trainable params: 0\n",
      "_________________________________________________________________\n"
     ]
    }
   ],
   "source": [
    "from keras import models, layers\n",
    "model = models.Sequential()\n",
    "model.add(layers.Conv2D(32, (3,3), activation='relu', input_shape=(224,224, 3)))\n",
    "model.add(layers.MaxPooling2D((2, 2)))\n",
    "model.add(layers.Conv2D(8, (2, 2), activation='relu'))\n",
    "model.add(layers.MaxPooling2D((2, 2)))\n",
    "model.add(layers.Flatten())\n",
    "model.add(layers.Dense(100, activation='relu'))\n",
    "model.add(layers.Dense(50, activation='relu'))\n",
    "model.add(layers.Dense(2, activation = 'softmax'))\n",
    "model.summary()"
   ]
  },
  {
   "cell_type": "code",
   "execution_count": 28,
   "metadata": {},
   "outputs": [],
   "source": [
    "model.compile(optimizer=tf.keras.optimizers.Adam(), \n",
    "              loss='categorical_crossentropy', \n",
    "              metrics=['accuracy'])"
   ]
  },
  {
   "cell_type": "code",
   "execution_count": 29,
   "metadata": {},
   "outputs": [
    {
     "name": "stdout",
     "output_type": "stream",
     "text": [
      "Epoch 1/10\n",
      "8/8 [==============================] - 1s 172ms/step - loss: 0.7652 - accuracy: 0.5972 - val_loss: 0.9223 - val_accuracy: 0.5625\n",
      "Epoch 2/10\n",
      "8/8 [==============================] - 1s 159ms/step - loss: 0.9022 - accuracy: 0.4861 - val_loss: 0.5293 - val_accuracy: 0.9062\n",
      "Epoch 3/10\n",
      "8/8 [==============================] - 1s 160ms/step - loss: 0.5544 - accuracy: 0.7083 - val_loss: 0.5481 - val_accuracy: 0.8438\n",
      "Epoch 4/10\n",
      "8/8 [==============================] - 1s 156ms/step - loss: 0.4080 - accuracy: 0.9306 - val_loss: 0.4133 - val_accuracy: 0.8438\n",
      "Epoch 5/10\n",
      "8/8 [==============================] - 1s 157ms/step - loss: 0.2297 - accuracy: 0.9306 - val_loss: 0.3041 - val_accuracy: 0.9062\n",
      "Epoch 6/10\n",
      "8/8 [==============================] - 1s 159ms/step - loss: 0.1211 - accuracy: 0.9722 - val_loss: 0.2003 - val_accuracy: 0.9375\n",
      "Epoch 7/10\n",
      "8/8 [==============================] - 1s 158ms/step - loss: 0.0449 - accuracy: 1.0000 - val_loss: 0.2808 - val_accuracy: 0.9062\n",
      "Epoch 8/10\n",
      "8/8 [==============================] - 1s 157ms/step - loss: 0.0255 - accuracy: 1.0000 - val_loss: 0.2525 - val_accuracy: 0.8750\n",
      "Epoch 9/10\n",
      "8/8 [==============================] - 1s 167ms/step - loss: 0.0125 - accuracy: 1.0000 - val_loss: 0.2046 - val_accuracy: 0.9375\n",
      "Epoch 10/10\n",
      "8/8 [==============================] - 1s 163ms/step - loss: 0.0035 - accuracy: 1.0000 - val_loss: 0.1427 - val_accuracy: 0.9688\n"
     ]
    }
   ],
   "source": [
    "epochs = 5\n",
    "\n",
    "history = model.fit(x_train, y_train, epochs=10, validation_data = (x_test, y_test) ,batch_size=10)"
   ]
  },
  {
   "cell_type": "code",
   "execution_count": 30,
   "metadata": {},
   "outputs": [
    {
     "data": {
      "image/png": "[encoded data removed]",
      "text/plain": [
       "<Figure size 576x576 with 2 Axes>"
      ]
     },
     "metadata": {
      "needs_background": "light"
     },
     "output_type": "display_data"
    }
   ],
   "source": [
    "import matplotlib.pyplot as plt\n",
    "acc = history.history['accuracy']\n",
    "val_acc = history.history['val_accuracy']\n",
    "\n",
    "loss = history.history['loss']\n",
    "val_loss = history.history['val_loss']\n",
    "\n",
    "plt.figure(figsize=(8, 8))\n",
    "plt.subplot(2, 1, 1)\n",
    "plt.plot(acc, label='Training Accuracy')\n",
    "plt.plot(val_acc, label='Validation Accuracy')\n",
    "plt.legend(loc='lower right')\n",
    "plt.ylabel('Accuracy')\n",
    "plt.ylim([min(plt.ylim()),1])\n",
    "plt.title('Training and Validation Accuracy')\n",
    "\n",
    "plt.subplot(2, 1, 2)\n",
    "plt.plot(loss, label='Training Loss')\n",
    "plt.plot(val_loss, label='Validation Loss')\n",
    "plt.legend(loc='upper right')\n",
    "plt.ylabel('Cross Entropy')\n",
    "plt.ylim([0,1.0])\n",
    "plt.title('Training and Validation Loss')\n",
    "plt.xlabel('epoch')\n",
    "plt.show()"
   ]
  },
  {
   "cell_type": "code",
   "execution_count": 31,
   "metadata": {},
   "outputs": [],
   "source": [
    "model.save('pure_model.h5')"
   ]
  },
  {
   "cell_type": "markdown",
   "metadata": {},
   "source": [
    "# Test model"
   ]
  },
  {
   "cell_type": "code",
   "execution_count": 33,
   "metadata": {},
   "outputs": [
    {
     "name": "stdout",
     "output_type": "stream",
     "text": [
      "[INFO] starting video stream...\n",
      "False\n"
     ]
    },
    {
     "ename": "AttributeError",
     "evalue": "'NoneType' object has no attribute 'shape'",
     "output_type": "error",
     "traceback": [
      "\u001b[0;31m---------------------------------------------------------------------------\u001b[0m",
      "\u001b[0;31mAttributeError\u001b[0m                            Traceback (most recent call last)",
      "\u001b[0;32m<ipython-input-33-a7319d79ed2f>\u001b[0m in \u001b[0;36m<module>\u001b[0;34m\u001b[0m\n\u001b[1;32m     25\u001b[0m     \u001b[0mret\u001b[0m\u001b[0;34m,\u001b[0m \u001b[0mframe\u001b[0m \u001b[0;34m=\u001b[0m \u001b[0mcam\u001b[0m\u001b[0;34m.\u001b[0m\u001b[0mread\u001b[0m\u001b[0;34m(\u001b[0m\u001b[0;34m)\u001b[0m\u001b[0;34m\u001b[0m\u001b[0;34m\u001b[0m\u001b[0m\n\u001b[1;32m     26\u001b[0m     \u001b[0mprint\u001b[0m\u001b[0;34m(\u001b[0m\u001b[0mret\u001b[0m\u001b[0;34m)\u001b[0m\u001b[0;34m\u001b[0m\u001b[0;34m\u001b[0m\u001b[0m\n\u001b[0;32m---> 27\u001b[0;31m     \u001b[0mframe\u001b[0m \u001b[0;34m=\u001b[0m \u001b[0mimutils\u001b[0m\u001b[0;34m.\u001b[0m\u001b[0mresize\u001b[0m\u001b[0;34m(\u001b[0m\u001b[0mframe\u001b[0m\u001b[0;34m,\u001b[0m \u001b[0mwidth\u001b[0m\u001b[0;34m=\u001b[0m\u001b[0;36m800\u001b[0m\u001b[0;34m)\u001b[0m\u001b[0;34m\u001b[0m\u001b[0;34m\u001b[0m\u001b[0m\n\u001b[0m\u001b[1;32m     28\u001b[0m \u001b[0;34m\u001b[0m\u001b[0m\n\u001b[1;32m     29\u001b[0m     \u001b[0;31m# grab the frame dimensions and convert it to a blob\u001b[0m\u001b[0;34m\u001b[0m\u001b[0;34m\u001b[0m\u001b[0;34m\u001b[0m\u001b[0m\n",
      "\u001b[0;32m~/.local/lib/python3.8/site-packages/imutils/convenience.py\u001b[0m in \u001b[0;36mresize\u001b[0;34m(image, width, height, inter)\u001b[0m\n\u001b[1;32m     67\u001b[0m     \u001b[0;31m# grab the image size\u001b[0m\u001b[0;34m\u001b[0m\u001b[0;34m\u001b[0m\u001b[0;34m\u001b[0m\u001b[0m\n\u001b[1;32m     68\u001b[0m     \u001b[0mdim\u001b[0m \u001b[0;34m=\u001b[0m \u001b[0;32mNone\u001b[0m\u001b[0;34m\u001b[0m\u001b[0;34m\u001b[0m\u001b[0m\n\u001b[0;32m---> 69\u001b[0;31m     \u001b[0;34m(\u001b[0m\u001b[0mh\u001b[0m\u001b[0;34m,\u001b[0m \u001b[0mw\u001b[0m\u001b[0;34m)\u001b[0m \u001b[0;34m=\u001b[0m \u001b[0mimage\u001b[0m\u001b[0;34m.\u001b[0m\u001b[0mshape\u001b[0m\u001b[0;34m[\u001b[0m\u001b[0;34m:\u001b[0m\u001b[0;36m2\u001b[0m\u001b[0;34m]\u001b[0m\u001b[0;34m\u001b[0m\u001b[0;34m\u001b[0m\u001b[0m\n\u001b[0m\u001b[1;32m     70\u001b[0m \u001b[0;34m\u001b[0m\u001b[0m\n\u001b[1;32m     71\u001b[0m     \u001b[0;31m# if both the width and height are None, then return the\u001b[0m\u001b[0;34m\u001b[0m\u001b[0;34m\u001b[0m\u001b[0;34m\u001b[0m\u001b[0m\n",
      "\u001b[0;31mAttributeError\u001b[0m: 'NoneType' object has no attribute 'shape'"
     ]
    }
   ],
   "source": [
    "import imutils\n",
    "from imutils.video import VideoStream\n",
    "from imutils.video import FPS\n",
    "import tensorflow as tf\n",
    "import keras \n",
    "import numpy as np\n",
    "import time\n",
    "import cv2\n",
    "import matplotlib.pyplot as plt\n",
    "import cvlib as cv\n",
    "from cvlib.object_detection import draw_bbox\n",
    "from keras.models import load_model\n",
    "\n",
    "model = load_model('pure_model.h5')\n",
    "\n",
    "cam = cv2.VideoCapture(0)\n",
    "print(\"[INFO] starting video stream...\")\n",
    "time.sleep(2.0)\n",
    "fps = FPS().start()\n",
    "\n",
    "CLASSES = ['TOMATOES', 'ONIONS']\n",
    "\n",
    "# loop over the frames from the video stream\n",
    "while True:\n",
    "    ret, frame = cam.read()\n",
    "    print(ret)\n",
    "    frame = imutils.resize(frame, width=800)\n",
    "     \n",
    "    # grab the frame dimensions and convert it to a blob\n",
    "    (h, w) = frame.shape[:2]\n",
    "\n",
    "    blob = cv2.dnn.blobFromImage(cv2.resize(frame, (224, 224)),0.007843, (300, 300), 127.5)\n",
    "    # predictions\n",
    "    #prediction = model.predict(blob)\n",
    "    detections = model.forward()\n",
    "\n",
    "    # loop over the detections\n",
    "    for i in np.arange(0, detections.shape[2]):\n",
    "        confidence = detections[0, 0, i, 2]\n",
    "        if confidence > args[\"confidence\"]:\n",
    "            # `detections`, then compute the (x, y)-coordinates of\n",
    "            # the bounding box for the object\n",
    "            idx = int(detections[0, 0, i, 1])\n",
    "            box = detections[0, 0, i, 3:7] * np.array([w, h, w, h])\n",
    "            (startX, startY, endX, endY) = box.astype(\"int\")\n",
    "            # draw the prediction on the frame\n",
    "            label = \"{}: {:.2f}%\".format(CLASSES[idx],confidence * 100)\n",
    "            cv2.rectangle(frame, (startX, startY), (endX, endY),COLORS[idx], 2)\n",
    "            y = startY - 15 if startY - 15 > 15 else startY + 15\n",
    "            cv2.putText(frame, label, (startX, y),cv2.FONT_HERSHEY_SIMPLEX, 0.5, COLORS[idx], 2)\n",
    "            cv2.imshow('object detection', output_image)\n",
    "            key = cv2.waitKey(1) & 0xFF\n",
    "            if key == ord('q'):\n",
    "                break\n",
    "    \n",
    "            # update the FPS counter\n",
    "            fps.update()\n",
    "            fps.stop()\n",
    "print(\"[INFO] elapsed time: {:.2f}\".format(fps.elapsed()))\n",
    "print(\"[INFO] approx. FPS: {:.2f}\".format(fps.fps()))\n",
    "# do a bit of cleanup\n",
    "cv2.destroyAllWindows()"
   ]
  },
  {
   "cell_type": "code",
   "execution_count": 34,
   "metadata": {},
   "outputs": [
    {
     "data": {
      "text/plain": [
       "'https://www.pyimagesearch.com/2017/09/11/object-detection-with-deep-learning-and-opencv/'"
      ]
     },
     "execution_count": 34,
     "metadata": {},
     "output_type": "execute_result"
    }
   ],
   "source": [
    "\"https://www.pyimagesearch.com/2017/09/11/object-detection-with-deep-learning-and-opencv/\""
   ]
  },
  {
   "cell_type": "code",
   "execution_count": 35,
   "metadata": {},
   "outputs": [
    {
     "data": {
      "text/plain": [
       "'https://www.pyimagesearch.com/2017/09/18/real-time-object-detection-with-deep-learning-and-opencv/'"
      ]
     },
     "execution_count": 35,
     "metadata": {},
     "output_type": "execute_result"
    }
   ],
   "source": [
    "\"https://www.pyimagesearch.com/2017/09/18/real-time-object-detection-with-deep-learning-and-opencv/\""
   ]
  },
  {
   "cell_type": "code",
   "execution_count": 36,
   "metadata": {},
   "outputs": [
    {
     "data": {
      "text/plain": [
       "'https://docs.opencv.org/2.4/modules/objdetect/doc/cascade_classification.html'"
      ]
     },
     "execution_count": 36,
     "metadata": {},
     "output_type": "execute_result"
    }
   ],
   "source": [
    "\"https://docs.opencv.org/2.4/modules/objdetect/doc/cascade_classification.html\""
   ]
  },
  {
   "cell_type": "code",
   "execution_count": 37,
   "metadata": {},
   "outputs": [
    {
     "data": {
      "text/plain": [
       "'https://www.howtogeek.com/357092/what-is-an-xml-file-and-how-do-i-open-one/'"
      ]
     },
     "execution_count": 37,
     "metadata": {},
     "output_type": "execute_result"
    }
   ],
   "source": [
    "\"https://www.howtogeek.com/357092/what-is-an-xml-file-and-how-do-i-open-one/\""
   ]
  },
  {
   "cell_type": "code",
   "execution_count": 38,
   "metadata": {},
   "outputs": [
    {
     "data": {
      "text/plain": [
       "'https://towardsdatascience.com/from-raw-images-to-real-time-predictions-with-deep-learning-ddbbda1be0e4'"
      ]
     },
     "execution_count": 38,
     "metadata": {},
     "output_type": "execute_result"
    }
   ],
   "source": [
    "\"https://towardsdatascience.com/from-raw-images-to-real-time-predictions-with-deep-learning-ddbbda1be0e4\""
   ]
  },
  {
   "cell_type": "code",
   "execution_count": null,
   "metadata": {},
   "outputs": [],
   "source": []
  }
 ],
 "metadata": {
  "kernelspec": {
   "display_name": "Python 3",
   "language": "python",
   "name": "python3"
  },
  "language_info": {
   "codemirror_mode": {
    "name": "ipython",
    "version": 3
   },
   "file_extension": ".py",
   "mimetype": "text/x-python",
   "name": "python",
   "nbconvert_exporter": "python",
   "pygments_lexer": "ipython3",
   "version": "3.8.2"
  }
 },
 "nbformat": 4,
 "nbformat_minor": 4
}
