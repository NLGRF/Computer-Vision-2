{
 "cells": [
  {
   "cell_type": "code",
   "execution_count": 1,
   "metadata": {},
   "outputs": [],
   "source": [
    "import tensorflow as tf\n",
    "import keras\n",
    "import cv2\n",
    "import warnings\n",
    "warnings.filterwarnings('ignore')\n"
   ]
  },
  {
   "cell_type": "code",
   "execution_count": 2,
   "metadata": {},
   "outputs": [
    {
     "data": {
      "text/plain": [
       "['tomatoe_onions_real_time_classification.ipynb',\n",
       " 'README.md',\n",
       " 'Object_detection_tomatoe_onion_claassification.py',\n",
       " 'models',\n",
       " 'tomatoe_onions',\n",
       " '.git',\n",
       " 'pure_model.h5',\n",
       " '.ipynb_checkpoints']"
      ]
     },
     "execution_count": 2,
     "metadata": {},
     "output_type": "execute_result"
    }
   ],
   "source": [
    "import os, sys\n",
    "os.listdir()"
   ]
  },
  {
   "cell_type": "markdown",
   "metadata": {},
   "source": [
    "# Image processing"
   ]
  },
  {
   "cell_type": "code",
   "execution_count": 3,
   "metadata": {},
   "outputs": [],
   "source": [
    "base_dir = os.getcwd()"
   ]
  },
  {
   "cell_type": "code",
   "execution_count": 11,
   "metadata": {},
   "outputs": [],
   "source": [
    "from os import listdir\n",
    "from os.path import isfile, join\n",
    "mypath = 'tomatoe_onions/train/others/'\n",
    "onlyfiles = [f for f in listdir(mypath) if isfile(join(mypath, f))]"
   ]
  },
  {
   "cell_type": "code",
   "execution_count": 12,
   "metadata": {},
   "outputs": [
    {
     "data": {
      "text/plain": [
       "['IMG_20200715_223142_584.jpg',\n",
       " 'IMG_20200715_222817_917.jpg',\n",
       " 'IMG_20200715_222757_779.jpg']"
      ]
     },
     "execution_count": 12,
     "metadata": {},
     "output_type": "execute_result"
    }
   ],
   "source": [
    "onlyfiles[:3]"
   ]
  },
  {
   "cell_type": "code",
   "execution_count": 19,
   "metadata": {},
   "outputs": [],
   "source": [
    "train_dir = 'tomatoe_onions/train'\n",
    "test_dir = 'tomatoe_onions/test'\n",
    "\n",
    "default_dir = 'tomatoe_onions'\n",
    "train_onion, train_tomatoe, train_others, test_onion, test_tomatoe, test_others = [], [],[],[],[],[]\n",
    "def get_data():\n",
    "    current_dir = train_dir+'/tomatoes/'\n",
    "    train_tomatoe = [f for f in listdir(current_dir) if isfile(join(current_dir, f))]\n",
    "    #print(train_tomatoe)\n",
    "    \n",
    "    current_dir = train_dir +'/onions/'\n",
    "    train_onion = [f for f in listdir(current_dir) if isfile(join(current_dir, f))]\n",
    "    \n",
    "    current_dir = train_dir +'/others/'\n",
    "    train_others = [f for f in listdir(current_dir) if isfile(join(current_dir, f))]\n",
    "    \n",
    "    current_dir = test_dir+'/tomatoes/'\n",
    "    test_tomatoe = [f for f in listdir(current_dir) if isfile(join(current_dir, f))]\n",
    "    \n",
    "    current_dir = test_dir +'/onions/'\n",
    "    test_onion = [f for f in listdir(current_dir) if isfile(join(current_dir, f))]\n",
    "    \n",
    "    current_dir = test_dir +'/others/'\n",
    "    test_others = [f for f in listdir(current_dir) if isfile(join(current_dir, f))]\n",
    "    return train_tomatoe, train_onion, test_tomatoe, test_onion, train_others, test_others\n",
    "\n",
    "train_tomatoe, train_onion, test_tomatoe, test_onion, train_others, test_others = get_data()\n",
    "\n"
   ]
  },
  {
   "cell_type": "code",
   "execution_count": 20,
   "metadata": {},
   "outputs": [
    {
     "data": {
      "text/plain": [
       "(37, 47, 10, 10, 28, 6)"
      ]
     },
     "execution_count": 20,
     "metadata": {},
     "output_type": "execute_result"
    }
   ],
   "source": [
    "len(train_tomatoe),len(train_onion),len(test_tomatoe),len(test_onion), len(train_others), len(test_others)"
   ]
  },
  {
   "cell_type": "code",
   "execution_count": 21,
   "metadata": {},
   "outputs": [
    {
     "data": {
      "text/plain": [
       "'/home/odemakinde/Desktop/Computer-Vision-master/Computer-Vision/tomatoe_onions real time image classification'"
      ]
     },
     "execution_count": 21,
     "metadata": {},
     "output_type": "execute_result"
    }
   ],
   "source": [
    "\n",
    "os.getcwd()"
   ]
  },
  {
   "cell_type": "code",
   "execution_count": 22,
   "metadata": {},
   "outputs": [
    {
     "data": {
      "text/plain": [
       "['tomatoe_onions_real_time_classification.ipynb',\n",
       " 'README.md',\n",
       " 'Object_detection_tomatoe_onion_claassification.py',\n",
       " 'models',\n",
       " 'tomatoe_onions',\n",
       " '.git',\n",
       " 'pure_model.h5',\n",
       " '.ipynb_checkpoints']"
      ]
     },
     "execution_count": 22,
     "metadata": {},
     "output_type": "execute_result"
    }
   ],
   "source": [
    "os.listdir()"
   ]
  },
  {
   "cell_type": "code",
   "execution_count": 23,
   "metadata": {},
   "outputs": [],
   "source": [
    "import numpy as np\n",
    "np.random.seed(100)\n",
    "\n",
    "import keras\n",
    "from keras.preprocessing import image\n",
    "\n",
    "train_images, train_target = [], []\n",
    "for i in train_tomatoe:\n",
    "    try:\n",
    "        directory = train_dir + '/tomatoes/' + str(i)\n",
    "        img = image.load_img(directory, target_size = (224,224), grayscale = False)\n",
    "        img=image.img_to_array(img)\n",
    "        img = img/255\n",
    "        train_images.append(img)\n",
    "        train_target.append(0)\n",
    "    except OSError as err:\n",
    "        continue\n",
    "\n",
    "for i in train_onion:\n",
    "    try:\n",
    "        directory = train_dir + '/onions/' + str(i)\n",
    "        img = image.load_img(directory, target_size = (224,224), grayscale = False)\n",
    "        img=image.img_to_array(img)\n",
    "        img = img/255\n",
    "        train_images.append(img)\n",
    "        train_target.append(1)\n",
    "    \n",
    "    except OSError as err:\n",
    "\n",
    "        continue\n",
    "        \n",
    "for i in train_others:\n",
    "    try:\n",
    "        directory = train_dir + '/others/' + str(i)\n",
    "        img = image.load_img(directory, target_size = (224,224), grayscale = False)\n",
    "        img=image.img_to_array(img)\n",
    "        img = img/255\n",
    "        train_images.append(img)\n",
    "        train_target.append(2)\n",
    "    \n",
    "    except OSError as err:\n",
    "\n",
    "        continue\n",
    "        \n",
    "for i in test_tomatoe:\n",
    "    try:\n",
    "        directory = test_dir + '/tomatoes/' + str(i)\n",
    "        img = image.load_img(directory, target_size = (224,224), grayscale = False)\n",
    "        img=image.img_to_array(img)\n",
    "        img = img/255\n",
    "        train_images.append(img)\n",
    "        train_target.append(0)\n",
    "    except OSError as err:\n",
    "        continue\n",
    "\n",
    "for i in test_onion:\n",
    "    try:\n",
    "        directory = test_dir + '/onions/' + str(i)\n",
    "        img = image.load_img(directory, target_size = (224,224), grayscale = False)\n",
    "        img=image.img_to_array(img)\n",
    "        img = img/255\n",
    "        train_images.append(img)\n",
    "        train_target.append(1)\n",
    "    \n",
    "    except OSError as err:\n",
    "        pass\n",
    "\n",
    "for i in test_others:\n",
    "    try:\n",
    "        directory = test_dir + '/others/' + str(i)\n",
    "        img = image.load_img(directory, target_size = (224,224), grayscale = False)\n",
    "        img=image.img_to_array(img)\n",
    "        img = img/255\n",
    "        train_images.append(img)\n",
    "        train_target.append(1)\n",
    "    \n",
    "    except OSError as err:\n",
    "        pass"
   ]
  },
  {
   "cell_type": "code",
   "execution_count": 24,
   "metadata": {},
   "outputs": [],
   "source": [
    "#image.load_img??"
   ]
  },
  {
   "cell_type": "code",
   "execution_count": 25,
   "metadata": {},
   "outputs": [
    {
     "data": {
      "text/plain": [
       "((138, 224, 224, 3), (138,))"
      ]
     },
     "execution_count": 25,
     "metadata": {},
     "output_type": "execute_result"
    }
   ],
   "source": [
    "train_images = np.array(train_images)\n",
    "train_target = np.array(train_target)\n",
    "train_images.shape, train_target.shape"
   ]
  },
  {
   "cell_type": "code",
   "execution_count": 26,
   "metadata": {},
   "outputs": [
    {
     "data": {
      "text/plain": [
       "((96, 224, 224, 3), (42, 224, 224, 3), (96,), (42,))"
      ]
     },
     "execution_count": 26,
     "metadata": {},
     "output_type": "execute_result"
    }
   ],
   "source": [
    "from sklearn.model_selection import train_test_split\n",
    "x_train, x_test, y_train, y_test = train_test_split(train_images, train_target, train_size = 0.7, random_state = 42, stratify = train_target)\n",
    "x_train.shape, x_test.shape, y_train.shape, y_test.shape"
   ]
  },
  {
   "cell_type": "code",
   "execution_count": 27,
   "metadata": {},
   "outputs": [
    {
     "data": {
      "text/plain": [
       "array([2, 1, 0, 0, 1, 2, 1, 0, 1, 1, 1, 2, 2, 0, 1, 0, 1, 2, 0, 0, 2, 0,\n",
       "       0, 1, 1, 1, 1, 1, 2, 1, 2, 0, 1, 0, 0, 1, 1, 1, 2, 0, 1, 1, 2, 2,\n",
       "       0, 1, 1, 2, 1, 1, 2, 2, 0, 1, 0, 1, 1, 1, 0, 0, 0, 2, 1, 1, 1, 0,\n",
       "       1, 1, 1, 2, 1, 0, 1, 1, 0, 0, 1, 0, 1, 2, 0, 0, 1, 1, 1, 1, 1, 0,\n",
       "       2, 0, 0, 0, 2, 0, 0, 0])"
      ]
     },
     "execution_count": 27,
     "metadata": {},
     "output_type": "execute_result"
    }
   ],
   "source": [
    "y_train"
   ]
  },
  {
   "cell_type": "code",
   "execution_count": 28,
   "metadata": {},
   "outputs": [],
   "source": [
    "from keras.utils import to_categorical\n",
    "y_train = to_categorical(y_train)\n",
    "y_test = to_categorical(y_test)\n"
   ]
  },
  {
   "cell_type": "markdown",
   "metadata": {},
   "source": [
    "# Training the network without transfer learning\n"
   ]
  },
  {
   "cell_type": "code",
   "execution_count": 29,
   "metadata": {},
   "outputs": [
    {
     "name": "stdout",
     "output_type": "stream",
     "text": [
      "Model: \"sequential\"\n",
      "_________________________________________________________________\n",
      "Layer (type)                 Output Shape              Param #   \n",
      "=================================================================\n",
      "conv2d (Conv2D)              (None, 222, 222, 32)      896       \n",
      "_________________________________________________________________\n",
      "max_pooling2d (MaxPooling2D) (None, 111, 111, 32)      0         \n",
      "_________________________________________________________________\n",
      "conv2d_1 (Conv2D)            (None, 110, 110, 8)       1032      \n",
      "_________________________________________________________________\n",
      "max_pooling2d_1 (MaxPooling2 (None, 55, 55, 8)         0         \n",
      "_________________________________________________________________\n",
      "flatten (Flatten)            (None, 24200)             0         \n",
      "_________________________________________________________________\n",
      "dense (Dense)                (None, 100)               2420100   \n",
      "_________________________________________________________________\n",
      "dense_1 (Dense)              (None, 50)                5050      \n",
      "_________________________________________________________________\n",
      "dense_2 (Dense)              (None, 3)                 153       \n",
      "=================================================================\n",
      "Total params: 2,427,231\n",
      "Trainable params: 2,427,231\n",
      "Non-trainable params: 0\n",
      "_________________________________________________________________\n"
     ]
    }
   ],
   "source": [
    "from keras import models, layers\n",
    "model = models.Sequential()\n",
    "model.add(layers.Conv2D(32, (3,3), activation='relu', input_shape=(224,224, 3)))\n",
    "model.add(layers.MaxPooling2D((2, 2)))\n",
    "model.add(layers.Conv2D(8, (2, 2), activation='relu'))\n",
    "model.add(layers.MaxPooling2D((2, 2)))\n",
    "model.add(layers.Flatten())\n",
    "model.add(layers.Dense(100, activation='relu'))\n",
    "model.add(layers.Dense(50, activation='relu'))\n",
    "model.add(layers.Dense(3, activation = 'softmax'))\n",
    "model.summary()"
   ]
  },
  {
   "cell_type": "code",
   "execution_count": 30,
   "metadata": {},
   "outputs": [],
   "source": [
    "model.compile(optimizer=tf.keras.optimizers.Adam(), \n",
    "              loss='categorical_crossentropy', \n",
    "              metrics=['accuracy'])"
   ]
  },
  {
   "cell_type": "code",
   "execution_count": 31,
   "metadata": {},
   "outputs": [
    {
     "name": "stdout",
     "output_type": "stream",
     "text": [
      "Epoch 1/10\n",
      "10/10 [==============================] - 2s 188ms/step - loss: 0.9609 - accuracy: 0.5521 - val_loss: 0.6842 - val_accuracy: 0.5952\n",
      "Epoch 2/10\n",
      "10/10 [==============================] - 2s 171ms/step - loss: 0.3951 - accuracy: 0.8750 - val_loss: 0.5016 - val_accuracy: 0.8095\n",
      "Epoch 3/10\n",
      "10/10 [==============================] - 2s 173ms/step - loss: 0.1686 - accuracy: 0.9271 - val_loss: 0.4764 - val_accuracy: 0.8333\n",
      "Epoch 4/10\n",
      "10/10 [==============================] - 2s 171ms/step - loss: 0.1113 - accuracy: 0.9479 - val_loss: 0.2562 - val_accuracy: 0.9048\n",
      "Epoch 5/10\n",
      "10/10 [==============================] - 2s 171ms/step - loss: 0.0545 - accuracy: 0.9792 - val_loss: 0.3975 - val_accuracy: 0.8333\n",
      "Epoch 6/10\n",
      "10/10 [==============================] - 2s 171ms/step - loss: 0.0458 - accuracy: 0.9896 - val_loss: 0.3732 - val_accuracy: 0.8571\n",
      "Epoch 7/10\n",
      "10/10 [==============================] - 2s 174ms/step - loss: 0.0169 - accuracy: 1.0000 - val_loss: 0.2881 - val_accuracy: 0.8810\n",
      "Epoch 8/10\n",
      "10/10 [==============================] - 2s 176ms/step - loss: 0.0126 - accuracy: 1.0000 - val_loss: 0.2980 - val_accuracy: 0.8810\n",
      "Epoch 9/10\n",
      "10/10 [==============================] - 2s 172ms/step - loss: 0.0156 - accuracy: 0.9896 - val_loss: 0.3248 - val_accuracy: 0.8810\n",
      "Epoch 10/10\n",
      "10/10 [==============================] - 2s 173ms/step - loss: 0.0168 - accuracy: 0.9896 - val_loss: 0.2976 - val_accuracy: 0.8571\n"
     ]
    }
   ],
   "source": [
    "epochs = 5\n",
    "\n",
    "history = model.fit(x_train, y_train, epochs=10, validation_data = (x_test, y_test) ,batch_size=10)"
   ]
  },
  {
   "cell_type": "code",
   "execution_count": 32,
   "metadata": {},
   "outputs": [
    {
     "data": {
      "image/png": "[encoded data removed]",
      "text/plain": [
       "<Figure size 576x576 with 2 Axes>"
      ]
     },
     "metadata": {
      "needs_background": "light"
     },
     "output_type": "display_data"
    }
   ],
   "source": [
    "import matplotlib.pyplot as plt\n",
    "acc = history.history['accuracy']\n",
    "val_acc = history.history['val_accuracy']\n",
    "\n",
    "loss = history.history['loss']\n",
    "val_loss = history.history['val_loss']\n",
    "\n",
    "plt.figure(figsize=(8, 8))\n",
    "plt.subplot(2, 1, 1)\n",
    "plt.plot(acc, label='Training Accuracy')\n",
    "plt.plot(val_acc, label='Validation Accuracy')\n",
    "plt.legend(loc='lower right')\n",
    "plt.ylabel('Accuracy')\n",
    "plt.ylim([min(plt.ylim()),1])\n",
    "plt.title('Training and Validation Accuracy')\n",
    "\n",
    "plt.subplot(2, 1, 2)\n",
    "plt.plot(loss, label='Training Loss')\n",
    "plt.plot(val_loss, label='Validation Loss')\n",
    "plt.legend(loc='upper right')\n",
    "plt.ylabel('Cross Entropy')\n",
    "plt.ylim([0,1.0])\n",
    "plt.title('Training and Validation Loss')\n",
    "plt.xlabel('epoch')\n",
    "plt.show()"
   ]
  },
  {
   "cell_type": "code",
   "execution_count": 33,
   "metadata": {},
   "outputs": [],
   "source": [
    "#model.save('pure_model.h5')"
   ]
  },
  {
   "cell_type": "markdown",
   "metadata": {},
   "source": [
    "# using tensorflow API"
   ]
  },
  {
   "cell_type": "code",
   "execution_count": 34,
   "metadata": {},
   "outputs": [
    {
     "data": {
      "text/plain": [
       "'/home/odemakinde/Desktop/Computer-Vision-master/Computer-Vision/tomatoe_onions real time image classification'"
      ]
     },
     "execution_count": 34,
     "metadata": {},
     "output_type": "execute_result"
    }
   ],
   "source": [
    "import os\n",
    "os.getcwd()"
   ]
  },
  {
   "cell_type": "code",
   "execution_count": 35,
   "metadata": {},
   "outputs": [],
   "source": [
    "os.chdir('/home/odemakinde/Desktop/Computer-Vision-master/Computer-Vision/tomatoe_onions real time image classification/models/research/object_detection/')"
   ]
  },
  {
   "cell_type": "code",
   "execution_count": 36,
   "metadata": {},
   "outputs": [],
   "source": [
    "import numpy as np\n",
    "import os\n",
    "import six.moves.urllib as urllib\n",
    "import sys\n",
    "import tarfile\n",
    "import tensorflow as tf\n",
    "import zipfile\n",
    "import cv2\n",
    "import gi\n",
    "gi.require_version('Gtk', '3.0')\n",
    "\n",
    "from collections import defaultdict\n",
    "from io import StringIO\n",
    "from matplotlib import pyplot as plt\n",
    "from PIL import Image\n",
    "from object_detection.utils import label_map_util\n",
    "from object_detection.utils import visualization_utils as vis_util\n"
   ]
  },
  {
   "cell_type": "markdown",
   "metadata": {},
   "source": [
    "# Test model"
   ]
  },
  {
   "cell_type": "code",
   "execution_count": 37,
   "metadata": {},
   "outputs": [
    {
     "data": {
      "text/plain": [
       "'/home/odemakinde/Desktop/Computer-Vision-master/Computer-Vision/tomatoe_onions real time image classification/models/research/object_detection'"
      ]
     },
     "execution_count": 37,
     "metadata": {},
     "output_type": "execute_result"
    }
   ],
   "source": [
    "import tensorflow_hub as hub\n",
    "os.getcwd()"
   ]
  },
  {
   "cell_type": "code",
   "execution_count": 43,
   "metadata": {},
   "outputs": [
    {
     "name": "stdout",
     "output_type": "stream",
     "text": [
      "Model: \"sequential_2\"\n",
      "_________________________________________________________________\n",
      "Layer (type)                 Output Shape              Param #   \n",
      "=================================================================\n",
      "conv2d_4 (Conv2D)            (None, 222, 222, 32)      896       \n",
      "_________________________________________________________________\n",
      "max_pooling2d_4 (MaxPooling2 (None, 111, 111, 32)      0         \n",
      "_________________________________________________________________\n",
      "conv2d_5 (Conv2D)            (None, 110, 110, 8)       1032      \n",
      "_________________________________________________________________\n",
      "max_pooling2d_5 (MaxPooling2 (None, 55, 55, 8)         0         \n",
      "_________________________________________________________________\n",
      "flatten_2 (Flatten)          (None, 24200)             0         \n",
      "_________________________________________________________________\n",
      "dense_6 (Dense)              (None, 100)               2420100   \n",
      "_________________________________________________________________\n",
      "dense_7 (Dense)              (None, 50)                5050      \n",
      "_________________________________________________________________\n",
      "dense_8 (Dense)              (None, 3)                 153       \n",
      "=================================================================\n",
      "Total params: 2,427,231\n",
      "Trainable params: 2,427,231\n",
      "Non-trainable params: 0\n",
      "_________________________________________________________________\n"
     ]
    }
   ],
   "source": [
    "from keras import models, layers\n",
    "model = models.Sequential()\n",
    "model.add(layers.Conv2D(32, (3,3), activation='relu', input_shape=(224,224, 3)))\n",
    "model.add(layers.MaxPooling2D((2, 2)))\n",
    "model.add(layers.Conv2D(8, (2, 2), activation='relu'))\n",
    "model.add(layers.MaxPooling2D((2, 2)))\n",
    "model.add(layers.Flatten())\n",
    "model.add(layers.Dense(100, activation='relu'))\n",
    "model.add(layers.Dense(50, activation='relu'))\n",
    "model.add(layers.Dense(3, activation = 'softmax'))\n",
    "model.summary()"
   ]
  },
  {
   "cell_type": "code",
   "execution_count": 44,
   "metadata": {},
   "outputs": [],
   "source": [
    "model.compile(optimizer=tf.keras.optimizers.Adam(), \n",
    "              loss='categorical_crossentropy', \n",
    "              metrics=['accuracy'])"
   ]
  },
  {
   "cell_type": "code",
   "execution_count": 45,
   "metadata": {},
   "outputs": [],
   "source": [
    "# Include the epoch in the file name (uses `str.format`)\n",
    "checkpoint_path = \"./ssd_inception_v2_coco_2017_11_17/model.ckpt\"\n",
    "checkpoint_dir = os.path.dirname(checkpoint_path)\n",
    "\n",
    "\n",
    "checkpoint_path_update = \"./ssd_inception_v2_coco_2017_11_17/update/model.ckpt\"\n",
    "# Create a callback that saves the model's weights every 5 epochs\n",
    "cp_callback = tf.keras.callbacks.ModelCheckpoint(\n",
    "    filepath=checkpoint_path_update, \n",
    "    verbose=1, \n",
    "    save_weights_only=True)\n"
   ]
  },
  {
   "cell_type": "code",
   "execution_count": 46,
   "metadata": {},
   "outputs": [
    {
     "data": {
      "text/plain": [
       "'/home/odemakinde/Desktop/Computer-Vision-master/Computer-Vision/tomatoe_onions real time image classification/models/research/object_detection'"
      ]
     },
     "execution_count": 46,
     "metadata": {},
     "output_type": "execute_result"
    }
   ],
   "source": [
    "os.getcwd()"
   ]
  },
  {
   "cell_type": "code",
   "execution_count": 47,
   "metadata": {},
   "outputs": [
    {
     "name": "stdout",
     "output_type": "stream",
     "text": [
      "\n",
      "Epoch 00001: saving model to ./ssd_inception_v2_coco_2017_11_17/update/model.ckpt\n",
      "\n",
      "Epoch 00002: saving model to ./ssd_inception_v2_coco_2017_11_17/update/model.ckpt\n",
      "\n",
      "Epoch 00003: saving model to ./ssd_inception_v2_coco_2017_11_17/update/model.ckpt\n",
      "\n",
      "Epoch 00004: saving model to ./ssd_inception_v2_coco_2017_11_17/update/model.ckpt\n",
      "\n",
      "Epoch 00005: saving model to ./ssd_inception_v2_coco_2017_11_17/update/model.ckpt\n",
      "\n",
      "Epoch 00006: saving model to ./ssd_inception_v2_coco_2017_11_17/update/model.ckpt\n",
      "\n",
      "Epoch 00007: saving model to ./ssd_inception_v2_coco_2017_11_17/update/model.ckpt\n",
      "\n",
      "Epoch 00008: saving model to ./ssd_inception_v2_coco_2017_11_17/update/model.ckpt\n",
      "\n",
      "Epoch 00009: saving model to ./ssd_inception_v2_coco_2017_11_17/update/model.ckpt\n",
      "\n",
      "Epoch 00010: saving model to ./ssd_inception_v2_coco_2017_11_17/update/model.ckpt\n"
     ]
    }
   ],
   "source": [
    "epochs = 5\n",
    "\n",
    "# Save the weights using the `checkpoint_path_update` format\n",
    "model.save_weights(checkpoint_path_update.format(epoch=0))\n",
    "\n",
    "history = model.fit(x_train, y_train, epochs=10, callbacks=[cp_callback],\n",
    "                    validation_data = (x_test, y_test) ,batch_size=10, verbose = 0)"
   ]
  },
  {
   "cell_type": "code",
   "execution_count": 53,
   "metadata": {},
   "outputs": [
    {
     "data": {
      "image/png": "[encoded data removed]",
      "text/plain": [
       "<Figure size 576x576 with 2 Axes>"
      ]
     },
     "metadata": {
      "needs_background": "light"
     },
     "output_type": "display_data"
    }
   ],
   "source": [
    "import matplotlib.pyplot as plt\n",
    "acc = history.history['accuracy']\n",
    "val_acc = history.history['val_accuracy']\n",
    "\n",
    "loss = history.history['loss']\n",
    "val_loss = history.history['val_loss']\n",
    "\n",
    "plt.figure(figsize=(8, 8))\n",
    "plt.subplot(2, 1, 1)\n",
    "plt.plot(acc, label='Training Accuracy')\n",
    "plt.plot(val_acc, label='Validation Accuracy')\n",
    "plt.legend(loc='lower right')\n",
    "plt.ylabel('Accuracy')\n",
    "plt.ylim([min(plt.ylim()),1])\n",
    "plt.title('Training and Validation Accuracy')\n",
    "\n",
    "\n",
    "plt.subplot(2, 1, 2)\n",
    "plt.plot(loss, label='Training Loss')\n",
    "plt.plot(val_loss, label='Validation Loss')\n",
    "plt.legend(loc='upper right')\n",
    "plt.ylabel('Cross Entropy')\n",
    "plt.ylim([0,1.0])\n",
    "plt.title('Training and Validation Loss')\n",
    "plt.xlabel('epoch')\n",
    "plt.show()"
   ]
  },
  {
   "cell_type": "code",
   "execution_count": 52,
   "metadata": {},
   "outputs": [
    {
     "data": {
      "image/png": "[encoded data removed]",
      "text/plain": [
       "<Figure size 432x288 with 1 Axes>"
      ]
     },
     "metadata": {
      "needs_background": "light"
     },
     "output_type": "display_data"
    }
   ],
   "source": []
  },
  {
   "cell_type": "code",
   "execution_count": 54,
   "metadata": {},
   "outputs": [],
   "source": [
    "from keras.models import load_model\n",
    "\n",
    "#CLASSES = ['TOMATOES', 'ONIONS']\n"
   ]
  },
  {
   "cell_type": "code",
   "execution_count": 55,
   "metadata": {},
   "outputs": [],
   "source": [
    "\n",
    "# Define the video stream\n",
    "cap = cv2.VideoCapture(0)  # Change only if you have more than one webcams\n",
    "\n",
    "# What model to download.\n",
    "# Models can bee found here: https://github.com/tensorflow/models/blob/master/research/object_detection/g3doc/detection_model_zoo.md\n",
    "MODEL_NAME = 'ssd_inception_v2_coco_2017_11_17/update'\n",
    "\n",
    "# Path to frozen detection graph. This is the actual model that is used for the object detection.\n",
    "PATH_TO_CKPT = MODEL_NAME + '/frozen_inference_graph.pb'\n",
    "\n",
    "# List of the strings that is used to add correct label for each box.\n",
    "PATH_TO_LABELS = os.path.join(MODEL_NAME, 'mscoco_label_map.pbtxt')\n",
    "\n",
    "# Number of classes to detect\n",
    "NUM_CLASSES = 3\n",
    "\n",
    "# Load a (frozen) Tensorflow model into memory.\n",
    "detection_graph = tf.Graph()\n",
    "with detection_graph.as_default():\n",
    "    od_graph_def = tf.compat.v1.GraphDef()\n",
    "    with tf.io.gfile.GFile(PATH_TO_CKPT, 'rb') as fid:\n",
    "        serialized_graph = fid.read()\n",
    "        od_graph_def.ParseFromString(serialized_graph)\n",
    "        tf.import_graph_def(od_graph_def, name='')\n"
   ]
  },
  {
   "cell_type": "code",
   "execution_count": 57,
   "metadata": {},
   "outputs": [],
   "source": [
    "\n",
    "\n",
    "# Loading label map\n",
    "# Label maps map indices to category names, so that when our convolution network predicts \n",
    "#`5`, we know that this corresponds to `airplane`.  Here we use internal utility functions,\n",
    "#but anything that returns a dictionary mapping integers to appropriate string labels would be fine\n",
    "label_map = label_map_util.load_labelmap(PATH_TO_LABELS)\n",
    "categories = label_map_util.convert_label_map_to_categories(\n",
    "    label_map, max_num_classes=NUM_CLASSES, use_display_name=True)\n",
    "category_index = label_map_util.create_category_index(categories)\n",
    "\n",
    "\n",
    "# Helper code\n",
    "def load_image_into_numpy_array(image):\n",
    "    (im_width, im_height) = image.size\n",
    "    return np.array(image.getdata()).reshape(\n",
    "        (im_height, im_width, 3)).astype(np.uint8)\n",
    "\n",
    "\n"
   ]
  },
  {
   "cell_type": "code",
   "execution_count": 59,
   "metadata": {},
   "outputs": [],
   "source": [
    "#Detection\n",
    "with detection_graph.as_default():\n",
    "    with tf.compat.v1.Session(graph=detection_graph) as sess:\n",
    "        \n",
    "        while True:\n",
    "            # Read frame from camera\n",
    "            ret, image_np = cap.read()\n",
    "            \n",
    "            # Expand dimensions since the model expects images to have shape: [1, None, None, 3]\n",
    "            image_np_expanded = np.expand_dims(image_np, axis=0)\n",
    "            # Extract image tensor\n",
    "            image_tensor = detection_graph.get_tensor_by_name('image_tensor:0')\n",
    "            # Extract detection boxes\n",
    "            boxes = detection_graph.get_tensor_by_name('detection_boxes:0')\n",
    "            # Extract detection scores\n",
    "            scores = detection_graph.get_tensor_by_name('detection_scores:0')\n",
    "            # Extract detection classes\n",
    "            classes = detection_graph.get_tensor_by_name('detection_classes:0')\n",
    "            # Extract number of detectionsd\n",
    "            num_detections = detection_graph.get_tensor_by_name(\n",
    "                'num_detections:0')\n",
    "            # Actual detection.\n",
    "            (boxes, scores, classes, num_detections) = sess.run(\n",
    "                [boxes, scores, classes, num_detections],\n",
    "                feed_dict={image_tensor: image_np_expanded})\n",
    "            # Visualization of the results of a detection.\n",
    "            vis_util.visualize_boxes_and_labels_on_image_array(\n",
    "                image_np,\n",
    "                np.squeeze(boxes),\n",
    "                np.squeeze(classes).astype(np.int32),\n",
    "                np.squeeze(scores),\n",
    "                category_index,\n",
    "                use_normalized_coordinates=True,\n",
    "                line_thickness=8)\n",
    "\n",
    "    \n",
    "            # Display output\n",
    "            img = cv2.resize(image_np, (800, 600))\n",
    "            cv2.imshow('object detection', img)\n",
    "            if cv2.waitKey(25) & 0xFF == ord('q'):\n",
    "                cv2.destroyAllWindows()\n",
    "                break"
   ]
  },
  {
   "cell_type": "code",
   "execution_count": null,
   "metadata": {},
   "outputs": [],
   "source": []
  }
 ],
 "metadata": {
  "kernelspec": {
   "display_name": "Python 3",
   "language": "python",
   "name": "python3"
  },
  "language_info": {
   "codemirror_mode": {
    "name": "ipython",
    "version": 3
   },
   "file_extension": ".py",
   "mimetype": "text/x-python",
   "name": "python",
   "nbconvert_exporter": "python",
   "pygments_lexer": "ipython3",
   "version": "3.8.2"
  }
 },
 "nbformat": 4,
 "nbformat_minor": 4
}
