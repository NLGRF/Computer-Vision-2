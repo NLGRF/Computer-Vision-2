{
 "cells": [
  {
   "cell_type": "code",
   "execution_count": 1,
   "metadata": {},
   "outputs": [],
   "source": [
    "import tensorflow as tf\n",
    "import keras\n",
    "import cv2"
   ]
  },
  {
   "cell_type": "code",
   "execution_count": 2,
   "metadata": {},
   "outputs": [
    {
     "data": {
      "text/plain": [
       "['tomatoe_onions',\n",
       " 'MobileNET.ipynb',\n",
       " '=0.6.0',\n",
       " '.ipynb_checkpoints',\n",
       " 'mobile_ssd_v2_float_coco.tflite']"
      ]
     },
     "execution_count": 2,
     "metadata": {},
     "output_type": "execute_result"
    }
   ],
   "source": [
    "import os, sys\n",
    "os.listdir()"
   ]
  },
  {
   "cell_type": "markdown",
   "metadata": {},
   "source": [
    "# Image processing"
   ]
  },
  {
   "cell_type": "code",
   "execution_count": 18,
   "metadata": {},
   "outputs": [
    {
     "data": {
      "text/plain": [
       "'/home/odemakinde/Desktop/Edge ML/mobileNET'"
      ]
     },
     "execution_count": 18,
     "metadata": {},
     "output_type": "execute_result"
    }
   ],
   "source": [
    "os.chdir('/home/odemakinde/Desktop/Edge ML/mobileNET')\n",
    "os.getcwd()"
   ]
  },
  {
   "cell_type": "code",
   "execution_count": 19,
   "metadata": {},
   "outputs": [],
   "source": [
    "base_dir = '/tomatoe_onions'"
   ]
  },
  {
   "cell_type": "code",
   "execution_count": 20,
   "metadata": {},
   "outputs": [],
   "source": [
    "from os import listdir\n",
    "from os.path import isfile, join\n",
    "mypath = 'tomatoe_onions/train/onions/'\n",
    "onlyfiles = [f for f in listdir(mypath) if isfile(join(mypath, f))]"
   ]
  },
  {
   "cell_type": "code",
   "execution_count": 21,
   "metadata": {},
   "outputs": [
    {
     "data": {
      "text/plain": [
       "['IMG_20200716_030657_918.jpg',\n",
       " 'IMG_20200716_030558_087.jpg',\n",
       " 'IMG_20200716_030634_462.jpg',\n",
       " 'IMG_20200716_030807_000.jpg',\n",
       " 'IMG_20200716_031018_026.jpg',\n",
       " 'IMG_20200716_030612_564.jpg',\n",
       " 'IMG_20200716_030630_802.jpg',\n",
       " 'IMG_20200716_030710_552.jpg',\n",
       " 'IMG_20200716_030748_235.jpg',\n",
       " 'IMG_20200716_031054_633.jpg',\n",
       " 'IMG_20200716_030624_731.jpg',\n",
       " 'IMG_20200716_030842_610.jpg',\n",
       " 'IMG_20200716_031026_207.jpg',\n",
       " 'IMG_20200716_030707_235.jpg',\n",
       " 'IMG_20200716_030553_942.jpg',\n",
       " 'IMG_20200716_030907_600.jpg',\n",
       " 'IMG_20200716_030702_061.jpg',\n",
       " 'IMG_20200716_030933_762.jpg',\n",
       " 'IMG_20200716_030733_340.jpg',\n",
       " 'IMG_20200716_030923_311.jpg',\n",
       " 'IMG_20200716_030604_145.jpg',\n",
       " 'IMG_20200716_030643_933.jpg',\n",
       " 'IMG_20200716_031001_019.jpg',\n",
       " 'IMG_20200716_031043_038.jpg',\n",
       " 'IMG_20200716_031049_799.jpg',\n",
       " 'IMG_20200716_031038_945.jpg',\n",
       " 'IMG_20200716_030942_265.jpg',\n",
       " 'IMG_20200716_030547_134.jpg',\n",
       " 'IMG_20200716_030956_106.jpg',\n",
       " 'IMG_20200716_031003_659.jpg',\n",
       " 'IMG_20200716_030730_209.jpg',\n",
       " 'IMG_20200716_030958_207.jpg',\n",
       " 'IMG_20200716_030801_212.jpg',\n",
       " 'IMG_20200716_030902_281.jpg',\n",
       " 'IMG_20200716_030719_798.jpg',\n",
       " 'IMG_20200716_031006_884.jpg',\n",
       " 'IMG_20200716_030819_115.jpg',\n",
       " 'IMG_20200716_030824_585.jpg',\n",
       " 'IMG_20200716_030540_914.jpg',\n",
       " 'IMG_20200716_030836_393.jpg',\n",
       " 'IMG_20200716_030940_155.jpg',\n",
       " 'IMG_20200716_030811_402.jpg',\n",
       " 'IMG_20200716_030812_495.jpg',\n",
       " 'IMG_20200716_030756_216.jpg',\n",
       " 'IMG_20200716_030640_355.jpg',\n",
       " 'IMG_20200716_030823_089.jpg',\n",
       " 'IMG_20200716_031021_841.jpg']"
      ]
     },
     "execution_count": 21,
     "metadata": {},
     "output_type": "execute_result"
    }
   ],
   "source": [
    "onlyfiles"
   ]
  },
  {
   "cell_type": "code",
   "execution_count": 29,
   "metadata": {},
   "outputs": [],
   "source": [
    "train_dir = 'tomatoe_onions/train'\n",
    "test_dir = 'tomatoe_onions/test'\n",
    "default_dir = 'tomatoe_onions'\n",
    "train_onion, train_tomatoe, test_onion, test_tomatoe = [], [],[],[]\n",
    "def get_data():\n",
    "    # get data's on training cat\n",
    "    current_dir = train_dir+'/tomatoes/'\n",
    "    train_tomatoe = [f for f in listdir(current_dir) if isfile(join(current_dir, f))]\n",
    "    #print(train_tomatoe)\n",
    "    \n",
    "    # get data's on training dog\n",
    "    current_dir = train_dir +'/onions/'\n",
    "    train_onion = [f for f in listdir(current_dir) if isfile(join(current_dir, f))]\n",
    "    \n",
    "    # get data's on test cat\n",
    "    current_dir = test_dir+'/tomatoes/'\n",
    "    test_tomatoe = [f for f in listdir(current_dir) if isfile(join(current_dir, f))]\n",
    "    \n",
    "    # get data's on test dog\n",
    "    current_dir = test_dir +'/onions/'\n",
    "    test_onion = [f for f in listdir(current_dir) if isfile(join(current_dir, f))]\n",
    "    return train_tomatoe, train_onion, test_tomatoe, test_onion\n",
    "\n",
    "train_tomatoe, train_onion, test_tomatoe, test_onion = get_data()\n",
    "\n"
   ]
  },
  {
   "cell_type": "code",
   "execution_count": 30,
   "metadata": {},
   "outputs": [
    {
     "data": {
      "text/plain": [
       "(37, 47, 10, 10)"
      ]
     },
     "execution_count": 30,
     "metadata": {},
     "output_type": "execute_result"
    }
   ],
   "source": [
    "len(train_tomatoe),len(train_onion),len(test_tomatoe),len(test_onion)"
   ]
  },
  {
   "cell_type": "code",
   "execution_count": 50,
   "metadata": {},
   "outputs": [
    {
     "data": {
      "text/plain": [
       "'/home/odemakinde/Desktop/Edge ML/mobileNET/tomatoe_onions'"
      ]
     },
     "execution_count": 50,
     "metadata": {},
     "output_type": "execute_result"
    }
   ],
   "source": [
    "os.getcwd()"
   ]
  },
  {
   "cell_type": "code",
   "execution_count": 52,
   "metadata": {},
   "outputs": [
    {
     "name": "stdout",
     "output_type": "stream",
     "text": [
      "../tomatoe_onions/train/tomatoes/IMG_20200716_030046_536.jpg\n",
      "../tomatoe_onions/train/tomatoes/IMG_20200716_030208_293.jpg\n",
      "../tomatoe_onions/train/tomatoes/IMG_20200716_030159_910.jpg\n",
      "../tomatoe_onions/train/tomatoes/IMG_20200716_030016_534.jpg\n",
      "../tomatoe_onions/train/tomatoes/IMG_20200716_025848_712.jpg\n",
      "../tomatoe_onions/train/tomatoes/IMG_20200716_030427_417.jpg\n",
      "../tomatoe_onions/train/tomatoes/IMG_20200716_030431_362.jpg\n",
      "../tomatoe_onions/train/tomatoes/IMG_20200716_030036_447.jpg\n",
      "../tomatoe_onions/train/tomatoes/IMG_20200716_030242_668.jpg\n",
      "../tomatoe_onions/train/tomatoes/IMG_20200716_030339_453.jpg\n",
      "../tomatoe_onions/train/tomatoes/IMG_20200716_025932_796.jpg\n",
      "../tomatoe_onions/train/tomatoes/IMG_20200716_030337_011.jpg\n",
      "../tomatoe_onions/train/tomatoes/IMG_20200716_025858_101.jpg\n",
      "../tomatoe_onions/train/tomatoes/IMG_20200716_030311_496.jpg\n",
      "../tomatoe_onions/train/tomatoes/IMG_20200716_030144_080.jpg\n",
      "../tomatoe_onions/train/tomatoes/IMG_20200716_030317_240.jpg\n",
      "../tomatoe_onions/train/tomatoes/IMG_20200716_030257_546.jpg\n",
      "../tomatoe_onions/train/tomatoes/IMG_20200716_025836_564.jpg\n",
      "../tomatoe_onions/train/tomatoes/IMG_20200716_030418_331.jpg\n",
      "../tomatoe_onions/train/tomatoes/IMG_20200716_030406_177.jpg\n",
      "../tomatoe_onions/train/tomatoes/IMG_20200716_030401_491.jpg\n",
      "../tomatoe_onions/train/tomatoes/IMG_20200716_030421_252.jpg\n",
      "../tomatoe_onions/train/tomatoes/IMG_20200716_030424_690.jpg\n",
      "../tomatoe_onions/train/tomatoes/IMG_20200716_030223_000.jpg\n",
      "../tomatoe_onions/train/tomatoes/IMG_20200716_030217_847.jpg\n",
      "../tomatoe_onions/train/tomatoes/IMG_20200716_025809_927.jpg\n",
      "../tomatoe_onions/train/tomatoes/IMG_20200716_030004_076.jpg\n",
      "../tomatoe_onions/train/tomatoes/IMG_20200716_030425_740.jpg\n",
      "../tomatoe_onions/train/tomatoes/IMG_20200716_025915_714.jpg\n",
      "../tomatoe_onions/train/tomatoes/IMG_20200716_025923_910.jpg\n",
      "../tomatoe_onions/train/tomatoes/IMG_20200716_030055_233.jpg\n",
      "../tomatoe_onions/train/tomatoes/IMG_20200716_030102_534.jpg\n",
      "../tomatoe_onions/train/tomatoes/IMG_20200716_030327_364.jpg\n",
      "../tomatoe_onions/train/tomatoes/IMG_20200716_025824_873.jpg\n",
      "../tomatoe_onions/train/tomatoes/IMG_20200716_030351_510.jpg\n",
      "../tomatoe_onions/train/tomatoes/IMG_20200716_030419_422.jpg\n",
      "../tomatoe_onions/train/tomatoes/IMG_20200716_030023_996.jpg\n"
     ]
    }
   ],
   "source": [
    "import numpy as np\n",
    "np.random.seed(100)\n",
    "\n",
    "import keras\n",
    "from keras.preprocessing import image\n",
    "\n",
    "train_images, train_target = [], []\n",
    "for i in train_tomatoe:\n",
    "    try:\n",
    "        directory = \"../\"+train_dir + '/tomatoes/' + str(i)\n",
    "        print(directory)\n",
    "        img = image.load_img(directory, target_size = (224,224), grayscale = False)\n",
    "        img=image.img_to_array(img)\n",
    "        img = img/255\n",
    "        train_images.append(img)\n",
    "        train_target.append(0)\n",
    "    except OSError as err:\n",
    "        print(err)\n",
    "\n",
    "for i in train_onion:\n",
    "    try:\n",
    "        directory = \"../\"+train_dir + '/onions/' + str(i)\n",
    "        img = image.load_img(directory, target_size = (224,224), grayscale = False)\n",
    "        img=image.img_to_array(img)\n",
    "        img = img/255\n",
    "        train_images.append(img)\n",
    "        train_target.append(1)\n",
    "    \n",
    "    except OSError as err:\n",
    "\n",
    "        continue\n",
    "for i in test_tomatoes:\n",
    "    try:\n",
    "        directory = \"../\"+test_dir + '/tomatoes/' + str(i)\n",
    "        img = image.load_img(directory, target_size = (224,224), grayscale = False)\n",
    "        img=image.img_to_array(img)\n",
    "        img = img/255\n",
    "        train_images.append(img)\n",
    "        train_target.append(0)\n",
    "    except OSError as err:\n",
    "        continue\n",
    "\n",
    "for i in test_onion:\n",
    "    try:\n",
    "        directory = \"../\"+test_dir + '/onions/' + str(i)\n",
    "        img = image.load_img(directory, target_size = (224,224), grayscale = False)\n",
    "        img=image.img_to_array(img)\n",
    "        img = img/255\n",
    "        train_images.append(img)\n",
    "        train_target.append(1)\n",
    "    \n",
    "    except OSError as err:\n",
    "        pass\n",
    "\n"
   ]
  },
  {
   "cell_type": "code",
   "execution_count": 53,
   "metadata": {},
   "outputs": [],
   "source": [
    "#image.load_img??"
   ]
  },
  {
   "cell_type": "code",
   "execution_count": 54,
   "metadata": {},
   "outputs": [
    {
     "data": {
      "text/plain": [
       "((94, 224, 224, 3), (94,))"
      ]
     },
     "execution_count": 54,
     "metadata": {},
     "output_type": "execute_result"
    }
   ],
   "source": [
    "train_images = np.array(train_images)\n",
    "train_target = np.array(train_target)\n",
    "train_images.shape, train_target.shape"
   ]
  },
  {
   "cell_type": "code",
   "execution_count": 58,
   "metadata": {},
   "outputs": [
    {
     "data": {
      "text/plain": [
       "((65, 224, 224, 3), (29, 224, 224, 3), (65,), (29,))"
      ]
     },
     "execution_count": 58,
     "metadata": {},
     "output_type": "execute_result"
    }
   ],
   "source": [
    "from sklearn.model_selection import train_test_split\n",
    "x_train, x_test, y_train, y_test = train_test_split(train_images, train_target, train_size = 0.7, random_state = 42, stratify = train_target)\n",
    "x_train.shape, x_test.shape, y_train.shape, y_test.shape"
   ]
  },
  {
   "cell_type": "code",
   "execution_count": 59,
   "metadata": {},
   "outputs": [
    {
     "data": {
      "text/plain": [
       "array([1, 1, 1, 1, 0, 1, 0, 1, 0, 1, 0, 1, 0, 0, 0, 1, 0, 1, 0, 0, 1, 0,\n",
       "       0, 0, 1, 0, 1, 1, 1, 1, 1, 0, 1, 1, 0, 0, 1, 1, 0, 1, 1, 0, 1, 1,\n",
       "       1, 1, 0, 0, 1, 1, 1, 0, 1, 0, 0, 1, 1, 1, 1, 0, 1, 1, 1, 1, 0])"
      ]
     },
     "execution_count": 59,
     "metadata": {},
     "output_type": "execute_result"
    }
   ],
   "source": [
    "y_train"
   ]
  },
  {
   "cell_type": "markdown",
   "metadata": {},
   "source": [
    "## trial"
   ]
  },
  {
   "cell_type": "raw",
   "metadata": {},
   "source": [
    "IMG_SHAPE = (224, 224, 3)\n",
    "\n",
    "# Create the base model from the pre-trained model MobileNet V2\n",
    "base_model = tf.keras.applications.MobileNetV2(input_shape=IMG_SHAPE,\n",
    "                                              include_top=False, \n",
    "                                              weights='imagenet')\n",
    "base_model.trainable = False"
   ]
  },
  {
   "cell_type": "raw",
   "metadata": {},
   "source": [
    "model = tf.keras.Sequential([\n",
    "  base_model,\n",
    "  tf.keras.layers.Conv2D(32, 3, activation='relu'),\n",
    "  tf.keras.layers.Dropout(0.2),\n",
    "  tf.keras.layers.GlobalAveragePooling2D(),\n",
    "  tf.keras.layers.Dense(2, activation='softmax')\n",
    "])"
   ]
  },
  {
   "cell_type": "raw",
   "metadata": {},
   "source": [
    "model.compile(optimizer=tf.keras.optimizers.Adam(), \n",
    "              loss='categorical_crossentropy', \n",
    "              metrics=['accuracy'])"
   ]
  },
  {
   "cell_type": "raw",
   "metadata": {},
   "source": [
    "model.summary()"
   ]
  },
  {
   "cell_type": "code",
   "execution_count": 96,
   "metadata": {},
   "outputs": [],
   "source": [
    "from keras.utils import to_categorical\n",
    "y_train = to_categorical(y_train)\n",
    "y_test = to_categorical(y_test)\n"
   ]
  },
  {
   "cell_type": "raw",
   "metadata": {},
   "source": [
    "model.fit(x_train, y_train, epochs=10,validation_data = (x_test, y_test), batch_size=10)"
   ]
  },
  {
   "cell_type": "code",
   "execution_count": 102,
   "metadata": {},
   "outputs": [
    {
     "data": {
      "image/png": "[encoded data removed]",
      "text/plain": [
       "<Figure size 576x576 with 2 Axes>"
      ]
     },
     "metadata": {
      "needs_background": "light"
     },
     "output_type": "display_data"
    }
   ],
   "source": [
    "acc = history.history['accuracy']\n",
    "val_acc = history.history['val_accuracy']\n",
    "\n",
    "loss = history.history['loss']\n",
    "val_loss = history.history['val_loss']\n",
    "\n",
    "plt.figure(figsize=(8, 8))\n",
    "plt.subplot(2, 1, 1)\n",
    "plt.plot(acc, label='Training Accuracy')\n",
    "plt.plot(val_acc, label='Validation Accuracy')\n",
    "plt.legend(loc='lower right')\n",
    "plt.ylabel('Accuracy')\n",
    "plt.ylim([min(plt.ylim()),1])\n",
    "plt.title('Training and Validation Accuracy')\n",
    "\n",
    "plt.subplot(2, 1, 2)\n",
    "plt.plot(loss, label='Training Loss')\n",
    "plt.plot(val_loss, label='Validation Loss')\n",
    "plt.legend(loc='upper right')\n",
    "plt.ylabel('Cross Entropy')\n",
    "plt.ylim([0,1.0])\n",
    "plt.title('Training and Validation Loss')\n",
    "plt.xlabel('epoch')\n",
    "plt.show()"
   ]
  },
  {
   "cell_type": "code",
   "execution_count": 103,
   "metadata": {},
   "outputs": [],
   "source": [
    "import matplotlib.pyplot as plt"
   ]
  },
  {
   "cell_type": "code",
   "execution_count": 105,
   "metadata": {},
   "outputs": [
    {
     "data": {
      "text/plain": [
       "(224, 224, 3)"
      ]
     },
     "execution_count": 105,
     "metadata": {},
     "output_type": "execute_result"
    }
   ],
   "source": [
    "im_path = r'/home/odemakinde/Desktop/Edge ML/mobileNET/tomatoe_onions/onions/IMG_20200716_031003_659.jpg'\n",
    "from PIL import Image\n",
    "image = Image.open(im_path)\n",
    "# summarize some details about the image\n",
    "im_arr = np.asarray(image)\n",
    "im_arr = np.resize(im_arr, (224,224,3))/ 255.0\n",
    "im_arr.shape"
   ]
  },
  {
   "cell_type": "code",
   "execution_count": 109,
   "metadata": {},
   "outputs": [
    {
     "data": {
      "text/plain": [
       "{'onions': 0, 'tomatoes': 1}"
      ]
     },
     "execution_count": 109,
     "metadata": {},
     "output_type": "execute_result"
    }
   ],
   "source": [
    "train_generator.class_indices"
   ]
  },
  {
   "cell_type": "code",
   "execution_count": 106,
   "metadata": {},
   "outputs": [
    {
     "data": {
      "text/plain": [
       "1"
      ]
     },
     "execution_count": 106,
     "metadata": {},
     "output_type": "execute_result"
    }
   ],
   "source": [
    "#print((im_arr))\n",
    "result = model.predict(im_arr[np.newaxis, ...])\n",
    "predicted_class = np.argmax(result[0], axis=-1)\n",
    "predicted_class"
   ]
  },
  {
   "cell_type": "markdown",
   "metadata": {},
   "source": [
    "# without transfer learning\n"
   ]
  },
  {
   "cell_type": "code",
   "execution_count": 86,
   "metadata": {},
   "outputs": [
    {
     "name": "stdout",
     "output_type": "stream",
     "text": [
      "Model: \"sequential_2\"\n",
      "_________________________________________________________________\n",
      "Layer (type)                 Output Shape              Param #   \n",
      "=================================================================\n",
      "conv2d_3 (Conv2D)            (None, 222, 222, 32)      896       \n",
      "_________________________________________________________________\n",
      "max_pooling2d_2 (MaxPooling2 (None, 111, 111, 32)      0         \n",
      "_________________________________________________________________\n",
      "conv2d_4 (Conv2D)            (None, 110, 110, 8)       1032      \n",
      "_________________________________________________________________\n",
      "max_pooling2d_3 (MaxPooling2 (None, 55, 55, 8)         0         \n",
      "_________________________________________________________________\n",
      "flatten_1 (Flatten)          (None, 24200)             0         \n",
      "_________________________________________________________________\n",
      "dense_4 (Dense)              (None, 100)               2420100   \n",
      "_________________________________________________________________\n",
      "dense_5 (Dense)              (None, 50)                5050      \n",
      "_________________________________________________________________\n",
      "dense_6 (Dense)              (None, 2)                 102       \n",
      "=================================================================\n",
      "Total params: 2,427,180\n",
      "Trainable params: 2,427,180\n",
      "Non-trainable params: 0\n",
      "_________________________________________________________________\n"
     ]
    }
   ],
   "source": [
    "from keras import models, layers\n",
    "model = models.Sequential()\n",
    "model.add(layers.Conv2D(32, (3,3), activation='relu', input_shape=(224,224, 3)))\n",
    "model.add(layers.MaxPooling2D((2, 2)))\n",
    "model.add(layers.Conv2D(8, (2, 2), activation='relu'))\n",
    "model.add(layers.MaxPooling2D((2, 2)))\n",
    "model.add(layers.Flatten())\n",
    "model.add(layers.Dense(100, activation='relu'))\n",
    "model.add(layers.Dense(50, activation='relu'))\n",
    "model.add(layers.Dense(2, activation = 'softmax'))\n",
    "model.summary()"
   ]
  },
  {
   "cell_type": "code",
   "execution_count": 87,
   "metadata": {},
   "outputs": [],
   "source": [
    "model.compile(optimizer=tf.keras.optimizers.Adam(), \n",
    "              loss='categorical_crossentropy', \n",
    "              metrics=['accuracy'])"
   ]
  },
  {
   "cell_type": "code",
   "execution_count": 88,
   "metadata": {},
   "outputs": [
    {
     "name": "stdout",
     "output_type": "stream",
     "text": [
      "Epoch 1/10\n",
      "7/7 [==============================] - 1s 182ms/step - loss: 1.2855 - accuracy: 0.5692 - val_loss: 0.6550 - val_accuracy: 0.6207\n",
      "Epoch 2/10\n",
      "7/7 [==============================] - 1s 164ms/step - loss: 0.5556 - accuracy: 0.7538 - val_loss: 0.6113 - val_accuracy: 0.6897\n",
      "Epoch 3/10\n",
      "7/7 [==============================] - 1s 163ms/step - loss: 0.4352 - accuracy: 0.8462 - val_loss: 0.5174 - val_accuracy: 0.7241\n",
      "Epoch 4/10\n",
      "7/7 [==============================] - 1s 163ms/step - loss: 0.2965 - accuracy: 0.9231 - val_loss: 0.4076 - val_accuracy: 0.7931\n",
      "Epoch 5/10\n",
      "7/7 [==============================] - 1s 164ms/step - loss: 0.2097 - accuracy: 0.9385 - val_loss: 0.4538 - val_accuracy: 0.8621\n",
      "Epoch 6/10\n",
      "7/7 [==============================] - 1s 166ms/step - loss: 0.1348 - accuracy: 0.9692 - val_loss: 0.2591 - val_accuracy: 0.8276\n",
      "Epoch 7/10\n",
      "7/7 [==============================] - 1s 162ms/step - loss: 0.0631 - accuracy: 1.0000 - val_loss: 0.2391 - val_accuracy: 0.9310\n",
      "Epoch 8/10\n",
      "7/7 [==============================] - 1s 164ms/step - loss: 0.0415 - accuracy: 0.9846 - val_loss: 0.1694 - val_accuracy: 0.8966\n",
      "Epoch 9/10\n",
      "7/7 [==============================] - 1s 166ms/step - loss: 0.0252 - accuracy: 1.0000 - val_loss: 0.1958 - val_accuracy: 0.9310\n",
      "Epoch 10/10\n",
      "7/7 [==============================] - 1s 168ms/step - loss: 0.0135 - accuracy: 1.0000 - val_loss: 0.1904 - val_accuracy: 0.8966\n"
     ]
    }
   ],
   "source": [
    "epochs = 10\n",
    "\n",
    "history = model.fit(x_train, y_train, epochs=10, validation_data = (x_test, y_test) ,batch_size=10)"
   ]
  },
  {
   "cell_type": "code",
   "execution_count": 90,
   "metadata": {},
   "outputs": [
    {
     "data": {
      "image/png": "[encoded data removed]",
      "text/plain": [
       "<Figure size 576x576 with 2 Axes>"
      ]
     },
     "metadata": {
      "needs_background": "light"
     },
     "output_type": "display_data"
    }
   ],
   "source": [
    "import matplotlib.pyplot as plt\n",
    "acc = history.history['accuracy']\n",
    "val_acc = history.history['val_accuracy']\n",
    "\n",
    "loss = history.history['loss']\n",
    "val_loss = history.history['val_loss']\n",
    "\n",
    "plt.figure(figsize=(8, 8))\n",
    "plt.subplot(2, 1, 1)\n",
    "plt.plot(acc, label='Training Accuracy')\n",
    "plt.plot(val_acc, label='Validation Accuracy')\n",
    "plt.legend(loc='lower right')\n",
    "plt.ylabel('Accuracy')\n",
    "plt.ylim([min(plt.ylim()),1])\n",
    "plt.title('Training and Validation Accuracy')\n",
    "\n",
    "plt.subplot(2, 1, 2)\n",
    "plt.plot(loss, label='Training Loss')\n",
    "plt.plot(val_loss, label='Validation Loss')\n",
    "plt.legend(loc='upper right')\n",
    "plt.ylabel('Cross Entropy')\n",
    "plt.ylim([0,1.0])\n",
    "plt.title('Training and Validation Loss')\n",
    "plt.xlabel('epoch')\n",
    "plt.show()"
   ]
  },
  {
   "cell_type": "code",
   "execution_count": 91,
   "metadata": {},
   "outputs": [],
   "source": [
    "model.save('pure_model.h5')"
   ]
  },
  {
   "cell_type": "code",
   "execution_count": null,
   "metadata": {},
   "outputs": [],
   "source": []
  }
 ],
 "metadata": {
  "kernelspec": {
   "display_name": "Python 3",
   "language": "python",
   "name": "python3"
  },
  "language_info": {
   "codemirror_mode": {
    "name": "ipython",
    "version": 3
   },
   "file_extension": ".py",
   "mimetype": "text/x-python",
   "name": "python",
   "nbconvert_exporter": "python",
   "pygments_lexer": "ipython3",
   "version": "3.8.2"
  }
 },
 "nbformat": 4,
 "nbformat_minor": 4
}
